{
 "cells": [
  {
   "cell_type": "code",
   "execution_count": null,
   "id": "25fc5fb6-924c-4e71-92da-332c7ee6ea44",
   "metadata": {},
   "outputs": [],
   "source": [
    "#6\n",
    "import pandas as pd\n",
    "import seaborn as sns\n",
    "import matplotlib.pyplot as plt\n",
    "import imageio\n",
    "import os"
   ]
  },
  {
   "cell_type": "code",
   "execution_count": null,
   "id": "5335fab4-26ce-4d95-8e5b-ce89a3d00a89",
   "metadata": {},
   "outputs": [],
   "source": [
    "africa_data = pd.read_csv('atlas_africa.csv', low_memory=False)"
   ]
  },
  {
   "cell_type": "code",
   "execution_count": null,
   "id": "8656f6a4-92c5-4f35-9b3b-b227f4aea9e4",
   "metadata": {},
   "outputs": [],
   "source": [
    "\n",
    "species_list = africa_data['Species'].unique()\n",
    "\n",
    "os.makedirs('heatmap_images', exist_ok=True)\n",
    "\n",
    "image_files = []\n",
    "\n",
    "for species in species_list:\n",
    "    species_data = africa_data[africa_data['Species'] == species]\n",
    "    \n",
    "    pivot_data_corr = species_data.pivot_table(index='Isolate Id', columns='Antibiotics', values='Status', aggfunc=lambda x: (x == 'Resistant').any())\n",
    "    \n",
    "    correlation_matrix = pivot_data_corr.corr()\n",
    "\n",
    "    plt.figure(figsize=(12, 10))\n",
    "\n",
    "    sns.heatmap(correlation_matrix, annot=False, cmap='coolwarm')\n",
    "    plt.title(f'Correlation Between Antibiotics Resistance for {species}')\n",
    "    plt.tight_layout()\n",
    "\n",
    "    filename = f\"heatmap_images/{species}.png\"\n",
    "    plt.savefig(filename)\n",
    "    image_files.append(filename)\n",
    "\n",
    "    plt.close()\n",
    "\n",
    "with imageio.get_writer('correlation_heatmaps.gif', mode='I', duration=3000) as writer:\n",
    "    for filename in image_files:\n",
    "        image = imageio.imread(filename)\n",
    "        writer.append_data(image)\n",
    "\n",
    "print(\"GIF created successfully!\")\n"
   ]
  }
 ],
 "metadata": {
  "kernelspec": {
   "display_name": "Python 3 (ipykernel)",
   "language": "python",
   "name": "python3"
  },
  "language_info": {
   "codemirror_mode": {
    "name": "ipython",
    "version": 3
   },
   "file_extension": ".py",
   "mimetype": "text/x-python",
   "name": "python",
   "nbconvert_exporter": "python",
   "pygments_lexer": "ipython3",
   "version": "3.12.4"
  }
 },
 "nbformat": 4,
 "nbformat_minor": 5
}
