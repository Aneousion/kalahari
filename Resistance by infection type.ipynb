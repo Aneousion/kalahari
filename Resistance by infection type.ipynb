{
 "cells": [
  {
   "cell_type": "code",
   "execution_count": null,
   "id": "d3525987-7afe-481b-b28e-02a8fa388cbd",
   "metadata": {},
   "outputs": [],
   "source": [
    "#4\n",
    "import pandas as pd\n",
    "import plotly.express as px\n",
    "import plotly.graph_objects as go\n",
    "from plotly.subplots import make_subplots\n",
    "import matplotlib.pyplot as plt\n",
    "import imageio"
   ]
  },
  {
   "cell_type": "code",
   "execution_count": null,
   "id": "e4f4bc03-0da9-4b59-8b1b-ba53c12e7128",
   "metadata": {},
   "outputs": [],
   "source": [
    "africa_data = pd.read_csv('atlas_africa.csv', low_memory=False)"
   ]
  },
  {
   "cell_type": "code",
   "execution_count": null,
   "id": "1953648e-9245-4a55-9bf4-a89cf8aed81a",
   "metadata": {},
   "outputs": [],
   "source": [
    "resistant_data = africa_data[africa_data['Status'] == 'Resistant']\n",
    "\n",
    "species_list = resistant_data['Species'].unique()\n",
    "\n",
    "image_paths = []\n",
    "\n",
    "rows, cols = 3, 3\n",
    "max_subplots = rows * cols\n",
    "\n",
    "for species in species_list:\n",
    "    species_data = resistant_data[resistant_data['Species'] == species]\n",
    "\n",
    "    infection_resistance = species_data.groupby(['infection type', 'antibiotics_class']).size() / species_data.groupby('infection type').size()\n",
    "\n",
    "    infection_resistance_df = infection_resistance.reset_index(name='Resistance Rate')\n",
    "\n",
    "    unique_classes = infection_resistance_df['antibiotics_class'].unique()\n",
    "    if len(unique_classes) == 0:\n",
    "        continue \n",
    "\n",
    "   \n",
    "    for i in range(0, len(unique_classes), max_subplots):\n",
    "        batch_classes = unique_classes[i:i+max_subplots]\n",
    "\n",
    "        fig = make_subplots(rows=rows, cols=cols, \n",
    "                            subplot_titles=batch_classes,\n",
    "                            vertical_spacing=0.3) \n",
    "\n",
    "        for idx, antibiotic_class in enumerate(batch_classes):\n",
    "            class_data = infection_resistance_df[infection_resistance_df['antibiotics_class'] == antibiotic_class]\n",
    "            \n",
    "            class_data_sorted = class_data.sort_values('Resistance Rate', ascending=False)\n",
    "\n",
    "            row = idx // cols + 1\n",
    "            col = idx % cols + 1\n",
    "\n",
    "            trace = go.Bar(x=class_data_sorted['infection type'], \n",
    "                           y=class_data_sorted['Resistance Rate'], \n",
    "                           name=antibiotic_class,\n",
    "                           marker=dict(color=px.colors.qualitative.Plotly[idx % len(px.colors.qualitative.Plotly)]))\n",
    "\n",
    "            fig.add_trace(trace, row=row, col=col)\n",
    "\n",
    "            fig.update_xaxes(tickangle=45, row=row, col=col)\n",
    "\n",
    "        fig.update_layout(title_text=f'Resistance by Infection Type for {species}', barmode='stack',\n",
    "                          showlegend=False, height=1000, width=1200)\n",
    "\n",
    "        image_path = f'resistance_{species}_{i // max_subplots + 1}.png'\n",
    "        fig.write_image(image_path)\n",
    "        image_paths.append(image_path)\n",
    "\n",
    "with imageio.get_writer('resistance_by_species.gif', mode='I', duration=3000) as writer:\n",
    "    for image_path in image_paths:\n",
    "        image = imageio.imread(image_path)\n",
    "        writer.append_data(image)\n",
    "\n",
    "plt.imshow(imageio.imread('resistance_by_species.gif'))\n",
    "plt.axis('off')\n",
    "plt.show()\n"
   ]
  }
 ],
 "metadata": {
  "kernelspec": {
   "display_name": "Python 3 (ipykernel)",
   "language": "python",
   "name": "python3"
  },
  "language_info": {
   "codemirror_mode": {
    "name": "ipython",
    "version": 3
   },
   "file_extension": ".py",
   "mimetype": "text/x-python",
   "name": "python",
   "nbconvert_exporter": "python",
   "pygments_lexer": "ipython3",
   "version": "3.12.4"
  }
 },
 "nbformat": 4,
 "nbformat_minor": 5
}
