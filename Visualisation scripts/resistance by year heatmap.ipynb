{
 "cells": [
  {
   "cell_type": "code",
   "execution_count": null,
   "id": "6cf7c476-1a03-43f3-814f-4b602d6a98b1",
   "metadata": {},
   "outputs": [],
   "source": [
    "#5\n",
    "import pandas as pd\n",
    "import seaborn as sns\n",
    "import matplotlib.pyplot as plt\n",
    "import numpy as np\n",
    "import os\n",
    "from PIL import Image"
   ]
  },
  {
   "cell_type": "code",
   "execution_count": null,
   "id": "adfc1233-782a-4bc5-b5f2-0a9b633a23db",
   "metadata": {},
   "outputs": [],
   "source": [
    "africa_data = pd.read_csv('atlas_africa.csv', low_memory=False)"
   ]
  },
  {
   "cell_type": "code",
   "execution_count": null,
   "id": "4d3b0eca-ea06-46d0-b6f4-472ce3a8a562",
   "metadata": {},
   "outputs": [],
   "source": [
    "\n",
    "africa_data = africa_data[africa_data['infection type'].notna()]\n",
    "\n",
    "species_list = africa_data['Species'].unique()\n",
    "\n",
    "output_dir = 'species_heatmaps'\n",
    "os.makedirs(output_dir, exist_ok=True)\n",
    "\n",
    "for species in species_list:\n",
    "    fig, ax = plt.subplots(figsize=(10, 8))\n",
    "\n",
    "    species_data = africa_data[africa_data['Species'] == species]\n",
    "\n",
    "    total_isolates = species_data.groupby(['Year', 'antibiotics_class']).size()\n",
    "\n",
    "    resistant_isolates = species_data[species_data['Status'] == 'Resistant'].groupby(['Year', 'antibiotics_class']).size()\n",
    "\n",
    "    resistance_proportion = (resistant_isolates / total_isolates).unstack()\n",
    "\n",
    "    resistance_proportion = resistance_proportion.fillna(0)\n",
    "\n",
    "    sns.heatmap(resistance_proportion, cmap=\"coolwarm\", ax=ax, \n",
    "                cbar_kws={'label': 'Proportion of Resistant Isolates'}, vmin=0, vmax=1)\n",
    "\n",
    "    ax.set_title(f'{species} Resistance Over Time')\n",
    "\n",
    "    ax.set_xlabel('Antibiotics Class')\n",
    "    ax.set_ylabel('Year')\n",
    "    ax.tick_params(axis='x', rotation=90)\n",
    "    ax.tick_params(axis='y', rotation=0)\n",
    "\n",
    "    plt.tight_layout()\n",
    "    plt.savefig(os.path.join(output_dir, f'{species}_heatmap.png'))\n",
    "    plt.close()\n",
    "\n",
    "images = []\n",
    "for species in species_list:\n",
    "    image_path = os.path.join(output_dir, f'{species}_heatmap.png')\n",
    "    images.append(Image.open(image_path))\n",
    "\n",
    "gif_path = 'species_heatmaps.gif'\n",
    "images[0].save(gif_path, save_all=True, append_images=images[1:], duration=3000, loop=0)"
   ]
  }
 ],
 "metadata": {
  "kernelspec": {
   "display_name": "Python 3 (ipykernel)",
   "language": "python",
   "name": "python3"
  },
  "language_info": {
   "codemirror_mode": {
    "name": "ipython",
    "version": 3
   },
   "file_extension": ".py",
   "mimetype": "text/x-python",
   "name": "python",
   "nbconvert_exporter": "python",
   "pygments_lexer": "ipython3",
   "version": "3.12.4"
  }
 },
 "nbformat": 4,
 "nbformat_minor": 5
}
