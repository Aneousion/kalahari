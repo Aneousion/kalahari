{
 "cells": [
  {
   "cell_type": "code",
   "execution_count": null,
   "id": "21bd189c-6366-4608-881f-9f3677c29780",
   "metadata": {},
   "outputs": [],
   "source": [
    "import pandas as pd\n",
    "import plotly.express as px\n",
    "import os\n",
    "from PIL import Image"
   ]
  },
  {
   "cell_type": "code",
   "execution_count": null,
   "id": "8151a99c-92de-47a3-ad8b-62d5285be291",
   "metadata": {},
   "outputs": [],
   "source": [
    "africa_data = pd.read_csv('atlas_africa.csv')"
   ]
  },
  {
   "cell_type": "code",
   "execution_count": null,
   "id": "73eb48b4-2ab9-4c0c-896f-25219a652355",
   "metadata": {},
   "outputs": [],
   "source": [
    "#1. Function to filter data and generate resistance trend for each species\n",
    "\n",
    "def plot_resistance_trend(africa_data, species_list, output_folder='species_plots', image_width=1200, image_height=800):\n",
    "    # output folder\n",
    "    if not os.path.exists(output_folder):\n",
    "        os.makedirs(output_folder)\n",
    "\n",
    "    for species in species_list:\n",
    "        species_data = africa_data[africa_data['Species'] == species]\n",
    "        \n",
    "        resistant_prevalence = species_data[species_data['Status'] == 'Resistant'].groupby(['Year', 'antibiotics_class']).size() / species_data.groupby(['Year', 'antibiotics_class']).size()\n",
    "        \n",
    "        resistant_prevalence = resistant_prevalence.reset_index(name='Proportion Resistant')\n",
    "        \n",
    "        # Create line plot\n",
    "        fig = px.line(\n",
    "            resistant_prevalence, \n",
    "            x='Year', \n",
    "            y='Proportion Resistant', \n",
    "            color='antibiotics_class',\n",
    "            title=f'Resistance Trend for {species} in Africa',\n",
    "            labels={'Proportion Resistant': 'Proportion of Resistant Isolates', 'antibiotics_class': 'Antibiotic Class'},\n",
    "            markers=True \n",
    "        )\n",
    "        \n",
    "        fig.update_layout(\n",
    "            width=image_width, \n",
    "            height=image_height, \n",
    "            title_font_size=20, \n",
    "            legend_title_text='Antibiotic Class' \n",
    "        )\n",
    "        \n",
    "        # Save the plot as an image \n",
    "        plot_filename = os.path.join(output_folder, f'{species}_resistance_trend.png')\n",
    "        fig.write_image(plot_filename, width=image_width, height=image_height)\n",
    "        \n",
    "\n",
    "def create_gif_from_plots(output_folder, gif_filename='species_trend.gif', duration=3000):\n",
    "    images = []\n",
    "    for filename in sorted(os.listdir(output_folder)):\n",
    "        if filename.endswith(\".png\"):\n",
    "            file_path = os.path.join(output_folder, filename)\n",
    "            images.append(Image.open(file_path))\n",
    "    \n",
    "    # Save as GIF\n",
    "    images[0].save(gif_filename, save_all=True, append_images=images[1:], duration=duration, loop=0)\n",
    "\n",
    "species_list = ['Pseudomonas aeruginosa', 'Klebsiella pneumoniae',\n",
    "       'Staphylococcus aureus', 'Acinetobacter baumannii',\n",
    "       'Streptococcus pneumoniae', 'Haemophilus influenzae',\n",
    "       'Enterococcus faecium', 'Neisseria gonorrhoeae']\n",
    "\n",
    "plot_resistance_trend(africa_data, species_list)\n",
    "create_gif_from_plots('species_plots')\n"
   ]
  }
 ],
 "metadata": {
  "kernelspec": {
   "display_name": "Python 3 (ipykernel)",
   "language": "python",
   "name": "python3"
  },
  "language_info": {
   "codemirror_mode": {
    "name": "ipython",
    "version": 3
   },
   "file_extension": ".py",
   "mimetype": "text/x-python",
   "name": "python",
   "nbconvert_exporter": "python",
   "pygments_lexer": "ipython3",
   "version": "3.12.4"
  }
 },
 "nbformat": 4,
 "nbformat_minor": 5
}
