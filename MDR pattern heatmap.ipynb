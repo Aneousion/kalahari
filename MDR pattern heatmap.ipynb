{
 "cells": [
  {
   "cell_type": "code",
   "execution_count": null,
   "id": "01e66e76-ae9a-4947-9e7f-c023cba21001",
   "metadata": {},
   "outputs": [],
   "source": [
    "import pandas as pd\n",
    "import seaborn as sns\n",
    "import matplotlib.pyplot as plt\n",
    "import numpy as np\n"
   ]
  },
  {
   "cell_type": "code",
   "execution_count": null,
   "id": "7062b8e3-a53a-4351-b487-5cb55822dbd2",
   "metadata": {},
   "outputs": [],
   "source": [
    "africa_data = pd.read_csv('atlas_africa.csv')"
   ]
  },
  {
   "cell_type": "code",
   "execution_count": null,
   "id": "77e803e1-f595-4d84-b0c5-bd16f28fe0ed",
   "metadata": {},
   "outputs": [],
   "source": [
    "#2\n",
    "\n",
    "# Convert 'Status' to numeric values: 'Resistant' = 1, everything else = 0\n",
    "africa_data['Resistance'] = africa_data['Status'].apply(lambda x: 1 if x == 'Resistant' else 0)\n",
    "\n",
    "# Calculate the percentage resistance by species and antibiotics\n",
    "pivot_data = africa_data.pivot_table(index='Species', \n",
    "                                     columns='Antibiotics', \n",
    "                                     values='Resistance', \n",
    "                                     aggfunc='mean') * 100 \n",
    "\n",
    "# drop duplicates\n",
    "antibiotics_class_data = africa_data[['Antibiotics', 'antibiotics_class']].drop_duplicates()\n",
    "\n",
    "# Sort antibiotics by their class\n",
    "antibiotics_class_data.sort_values(by='antibiotics_class', inplace=True)\n",
    "sorted_antibiotics = antibiotics_class_data['Antibiotics'].values\n",
    "\n",
    "pivot_data = pivot_data[sorted_antibiotics]\n",
    "\n",
    "# Get unique classes\n",
    "unique_classes = antibiotics_class_data['antibiotics_class'].unique()\n",
    "\n",
    "color_palette = sns.color_palette('tab20', len(unique_classes)) \n",
    "class_color_map = dict(zip(unique_classes, color_palette))\n",
    "\n",
    "antibiotic_colors = antibiotics_class_data.set_index('Antibiotics')['antibiotics_class'].map(class_color_map)\n",
    "\n",
    "plt.figure(figsize=(16, 10))\n",
    "sns.heatmap(pivot_data, cmap='coolwarm', cbar_kws={'label': 'Percentage Resistance (%)'}, linewidths=0.5)\n",
    "\n",
    "plt.title('MDR Pattern in Africa (Percentage Resistance by Species)')\n",
    "plt.xlabel('Antibiotics')\n",
    "plt.ylabel('Species')\n",
    "\n",
    "\n",
    "#plt.xticks(rotation=45, ha='right')\n",
    "\n",
    "ax = plt.gca()\n",
    "for xtick, label in zip(ax.get_xticklabels(), pivot_data.columns):\n",
    "    xtick.set_color(antibiotic_colors[label])\n",
    "    \n",
    "legend_handles = [plt.Line2D([0], [0], color=class_color_map[cls], lw=4) for cls in unique_classes if cls is not np.nan]\n",
    "plt.legend(legend_handles, unique_classes, title='Antibiotics Classes', bbox_to_anchor=(1.15, 1.1), loc='upper left', fontsize='small') \n",
    "plt.tight_layout(rect=[0, 0, 0.9, 1]) \n",
    "plt.savefig('mdr_pattern_africa.png', bbox_inches='tight')\n",
    "\n",
    "plt.show()\n"
   ]
  }
 ],
 "metadata": {
  "kernelspec": {
   "display_name": "Python 3 (ipykernel)",
   "language": "python",
   "name": "python3"
  },
  "language_info": {
   "codemirror_mode": {
    "name": "ipython",
    "version": 3
   },
   "file_extension": ".py",
   "mimetype": "text/x-python",
   "name": "python",
   "nbconvert_exporter": "python",
   "pygments_lexer": "ipython3",
   "version": "3.12.4"
  }
 },
 "nbformat": 4,
 "nbformat_minor": 5
}
